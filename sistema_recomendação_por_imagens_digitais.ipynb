{
  "cells": [
    {
      "attachments": {},
      "cell_type": "markdown",
      "metadata": {
        "id": "view-in-github"
      },
      "source": [
        "<a href=\"https://colab.research.google.com/github/ianmateusES/dio-image_recommendation_system/blob/main/sistema_recomendação_por_imagens_digitais.ipynb\" target=\"_parent\"><img src=\"https://colab.research.google.com/assets/colab-badge.svg\" alt=\"Open In Colab\"/></a>"
      ]
    },
    {
      "cell_type": "markdown",
      "metadata": {
        "id": "HI6a3aq4ls31"
      },
      "source": [
        "# Sistema de Recomendação por Imagens Digitais"
      ]
    },
    {
      "cell_type": "markdown",
      "metadata": {
        "id": "8Oon2FEulwgC"
      },
      "source": [
        "## 1. Bibliotecas"
      ]
    },
    {
      "cell_type": "code",
      "execution_count": 1,
      "metadata": {
        "id": "Bc-Os2-6lRLo"
      },
      "outputs": [],
      "source": [
        "import os\n",
        "import pandas as pd\n",
        "import numpy as np\n",
        "import matplotlib.pyplot as plt\n",
        "import tensorflow as tf\n",
        "from shutil import move\n",
        "from pathlib import Path\n",
        "from tqdm import tqdm\n",
        "\n",
        "# tqdm é um pacote para Python que permite acompanhar o progresso de loops\n",
        "# com barras de progresso e estimar TTC (Time To Completion)\n",
        "tqdm.pandas()"
      ]
    },
    {
      "cell_type": "markdown",
      "metadata": {
        "id": "bm1k0lLXmw0E"
      },
      "source": [
        "## 2. Habiltando Google Drive"
      ]
    },
    {
      "cell_type": "code",
      "execution_count": 2,
      "metadata": {
        "colab": {
          "base_uri": "https://localhost:8080/"
        },
        "id": "UkiaQttlm1h-",
        "outputId": "dfbe4826-b7bb-4bc1-98db-3a1bd5ffaac2"
      },
      "outputs": [
        {
          "name": "stdout",
          "output_type": "stream",
          "text": [
            "Mounted at /content/drive\n"
          ]
        }
      ],
      "source": [
        "from google.colab import drive\n",
        "drive.mount('/content/drive')"
      ]
    },
    {
      "cell_type": "markdown",
      "metadata": {
        "id": "eGv9pXiZma4S"
      },
      "source": [
        "## 3. Importando biblioteca do Kaggle"
      ]
    },
    {
      "cell_type": "code",
      "execution_count": 3,
      "metadata": {
        "colab": {
          "base_uri": "https://localhost:8080/"
        },
        "id": "j-96R8bXEz00",
        "outputId": "ac977abb-2d20-4f0e-a026-31f67c84b1cb"
      },
      "outputs": [
        {
          "name": "stdout",
          "output_type": "stream",
          "text": [
            "Writing kaggle.json\n"
          ]
        }
      ],
      "source": [
        "# Gerando arquivo de credenciais\n",
        "%%writefile kaggle.json\n",
        "{\"username\":\"User\",\"key\":\"number key\"}"
      ]
    },
    {
      "cell_type": "code",
      "execution_count": 4,
      "metadata": {
        "colab": {
          "base_uri": "https://localhost:8080/"
        },
        "id": "s1gB69Pol1fV",
        "outputId": "aff24b74-0acf-46ea-c907-d81bba825ef3"
      },
      "outputs": [
        {
          "name": "stdout",
          "output_type": "stream",
          "text": [
            "Looking in indexes: https://pypi.org/simple, https://us-python.pkg.dev/colab-wheels/public/simple/\n",
            "Collecting kaggle\n",
            "  Downloading kaggle-1.5.13.tar.gz (63 kB)\n",
            "\u001b[2K     \u001b[90m━━━━━━━━━━━━━━━━━━━━━━━━━━━━━━━━━━━━━━━━\u001b[0m \u001b[32m63.3/63.3 kB\u001b[0m \u001b[31m5.3 MB/s\u001b[0m eta \u001b[36m0:00:00\u001b[0m\n",
            "\u001b[?25h  Preparing metadata (setup.py) ... \u001b[?25l\u001b[?25hdone\n",
            "Building wheels for collected packages: kaggle\n",
            "  Building wheel for kaggle (setup.py) ... \u001b[?25l\u001b[?25hdone\n",
            "  Created wheel for kaggle: filename=kaggle-1.5.13-py3-none-any.whl size=77717 sha256=a5adbb3532d83502971558e2672538ab02d2d5cd9fcd7d138cf22bffd73d32a6\n",
            "  Stored in directory: /root/.cache/pip/wheels/f3/16/ff/34e7d368370d4fd68bb749a59f1d2639ed66f3c14358e340a1\n",
            "Successfully built kaggle\n",
            "Installing collected packages: kaggle\n",
            "  Attempting uninstall: kaggle\n",
            "    Found existing installation: kaggle 1.5.13\n",
            "    Uninstalling kaggle-1.5.13:\n",
            "      Successfully uninstalled kaggle-1.5.13\n",
            "Successfully installed kaggle-1.5.13\n",
            "CPU times: user 93.1 ms, sys: 11.1 ms, total: 104 ms\n",
            "Wall time: 11 s\n"
          ]
        }
      ],
      "source": [
        "%%time\n",
        "# Baixando e instalando Kaggle\n",
        "!pip install -q -U kaggle\n",
        "!pip install --upgrade --force-reinstall --no-deps kaggle\n",
        "!mkdir ~/.kaggle\n",
        "!cp kaggle.json ~/.kaggle/\n",
        "!chmod 600 ~/.kaggle/kaggle.json"
      ]
    },
    {
      "cell_type": "markdown",
      "metadata": {
        "id": "JgGBOuQtnC7T"
      },
      "source": [
        "## 4. Obtendo os dados"
      ]
    },
    {
      "cell_type": "code",
      "execution_count": null,
      "metadata": {
        "id": "LTMgIl2tnEpW"
      },
      "outputs": [],
      "source": [
        "%%time\n",
        "# Baixando e descompactando os dados\n",
        "!kaggle datasets download -d paramaggarwal/fashion-product-images-small\n",
        "!unzip fashion-product-images-small.zip"
      ]
    },
    {
      "cell_type": "code",
      "execution_count": 6,
      "metadata": {
        "colab": {
          "base_uri": "https://localhost:8080/"
        },
        "id": "p-CDTFY9nFP4",
        "outputId": "d4262c58-16bc-4ae1-cc2a-fd09d08255e8"
      },
      "outputs": [
        {
          "name": "stderr",
          "output_type": "stream",
          "text": [
            "100%|██████████| 44441/44441 [03:10<00:00, 233.59it/s]"
          ]
        },
        {
          "name": "stdout",
          "output_type": "stream",
          "text": [
            "CPU times: user 2min 50s, sys: 3.72 s, total: 2min 54s\n",
            "Wall time: 3min 10s\n"
          ]
        },
        {
          "name": "stderr",
          "output_type": "stream",
          "text": [
            "\n"
          ]
        }
      ],
      "source": [
        "%%time\n",
        "# Criando o diretorio que vai conter nossas imagens e as categorias\n",
        "os.mkdir('/content/Fashion_data')\n",
        "os.chdir('/content/Fashion_data')\n",
        "\n",
        "df = pd.read_csv('/content/styles.csv', usecols=['id','masterCategory']).reset_index()\n",
        "df['id'] = df['id'].astype('str')\n",
        "\n",
        "all_images = os.listdir('/content/images/')\n",
        "co = 0\n",
        "os.mkdir('/content/Fashion_data/categories')\n",
        "for image in tqdm(all_images):\n",
        "    category = df[df['id'] == image.split('.')[0]]['masterCategory']\n",
        "    category = str(list(category)[0])\n",
        "    if not os.path.exists(os.path.join('/content/Fashion_data/categories', category)):\n",
        "        os.mkdir(os.path.join('/content/Fashion_data/categories', category))\n",
        "    path_from = os.path.join('/content/images', image)\n",
        "    path_to = os.path.join('/content/Fashion_data/categories', category, image)\n",
        "    move(path_from, path_to)\n",
        "    co += 1"
      ]
    },
    {
      "cell_type": "markdown",
      "metadata": {
        "id": "XH5h3-Avokfy"
      },
      "source": [
        "## 5. Transferência de aprendizado"
      ]
    },
    {
      "cell_type": "markdown",
      "metadata": {
        "id": "mnvfDlIeosFO"
      },
      "source": [
        "Baixando o modelo de imagem pré-treinado e adicionando duas camadas adicionais: a primeira camada é uma camada de vetor de recursos e a segunda camada é a camada de classificação.\n",
        "\n",
        "Vamos treinar apenas essas 2 camadas em nossos dados e, após o treinamento, selecionaremos a camada de vetor de recursos como saída de nosso codificador ajustado. Depois de ajustar o modelo, salvaremos o extrator de recursos para uso posterior."
      ]
    },
    {
      "cell_type": "code",
      "execution_count": 7,
      "metadata": {
        "colab": {
          "base_uri": "https://localhost:8080/"
        },
        "id": "w5gid_q1nXTc",
        "outputId": "ff6147ca-465b-4374-f8ae-e9fa1a182c0c"
      },
      "outputs": [
        {
          "name": "stdout",
          "output_type": "stream",
          "text": [
            "TF version: 2.12.0\n",
            "Hub version: 0.13.0\n",
            "GPU is available\n"
          ]
        }
      ],
      "source": [
        "import os\n",
        "import matplotlib.pylab as plt\n",
        "import numpy as np\n",
        "import tensorflow as tf\n",
        "import tensorflow_hub as hub\n",
        "\n",
        "print(\"TF version:\", tf.__version__)\n",
        "print(\"Hub version:\", hub.__version__)\n",
        "print(\"GPU is\", \"available\" if tf.config.list_physical_devices('GPU') else \"NOT AVAILABLE\")"
      ]
    },
    {
      "cell_type": "code",
      "execution_count": 8,
      "metadata": {
        "colab": {
          "base_uri": "https://localhost:8080/"
        },
        "id": "5wPArKTeo408",
        "outputId": "87c22542-b701-428d-afe7-db45df8b4160"
      },
      "outputs": [
        {
          "name": "stdout",
          "output_type": "stream",
          "text": [
            "Using https://tfhub.dev/google/bit/m-r50x3/1 with input size (224, 224)\n"
          ]
        }
      ],
      "source": [
        "MODULE_HANDLE = 'https://tfhub.dev/google/bit/m-r50x3/1'\n",
        "IMAGE_SIZE = (224, 224)\n",
        "BATCH_SIZE = 32\n",
        "N_FEATURES = 256\n",
        "data_dir = '/content/Fashion_data/categories'\n",
        "\n",
        "print(\"Using {} with input size {}\".format(MODULE_HANDLE, IMAGE_SIZE))"
      ]
    },
    {
      "cell_type": "code",
      "execution_count": 9,
      "metadata": {
        "colab": {
          "base_uri": "https://localhost:8080/"
        },
        "id": "yZSN4SAMqW4Y",
        "outputId": "88982086-468e-45e2-cba3-541eae5b855b"
      },
      "outputs": [
        {
          "name": "stdout",
          "output_type": "stream",
          "text": [
            "Found 8886 images belonging to 7 classes.\n",
            "Found 35555 images belonging to 7 classes.\n",
            "CPU times: user 659 ms, sys: 91.4 ms, total: 751 ms\n",
            "Wall time: 703 ms\n"
          ]
        }
      ],
      "source": [
        "%%time\n",
        "datagen_kwargs = dict(rescale=1./255, validation_split=.20)\n",
        "dataflow_kwargs = dict(\n",
        "  target_size=IMAGE_SIZE, batch_size=BATCH_SIZE, interpolation=\"bilinear\"\n",
        ")\n",
        "\n",
        "valid_datagen = tf.keras.preprocessing.image.ImageDataGenerator(**datagen_kwargs)\n",
        "valid_generator = valid_datagen.flow_from_directory(\n",
        "    data_dir, subset=\"validation\",\n",
        "    shuffle=False, **dataflow_kwargs\n",
        ")\n",
        "\n",
        "do_data_augmentation = False \n",
        "if do_data_augmentation:\n",
        "  train_datagen = tf.keras.preprocessing.image.ImageDataGenerator(\n",
        "      rotation_range=40, horizontal_flip=True,\n",
        "      width_shift_range=0.2, height_shift_range=0.2,\n",
        "      shear_range=0.2, zoom_range=0.2, **datagen_kwargs\n",
        "  )\n",
        "else:\n",
        "  train_datagen = valid_datagen\n",
        "\n",
        "train_generator = train_datagen.flow_from_directory(\n",
        "    data_dir, subset=\"training\",\n",
        "    shuffle=True, **dataflow_kwargs\n",
        ")"
      ]
    },
    {
      "cell_type": "code",
      "execution_count": 10,
      "metadata": {
        "colab": {
          "base_uri": "https://localhost:8080/"
        },
        "id": "sOsyeqdWqbOm",
        "outputId": "ddf87cce-66ef-4d9d-cf31-eda50cea734b"
      },
      "outputs": [
        {
          "name": "stdout",
          "output_type": "stream",
          "text": [
            "Building model with https://tfhub.dev/google/bit/m-r50x3/1\n",
            "Model: \"sequential\"\n",
            "_________________________________________________________________\n",
            " Layer (type)                Output Shape              Param #   \n",
            "=================================================================\n",
            " keras_layer (KerasLayer)    (None, 6144)              211174080 \n",
            "                                                                 \n",
            " dropout (Dropout)           (None, 6144)              0         \n",
            "                                                                 \n",
            " dense (Dense)               (None, 256)               1573120   \n",
            "                                                                 \n",
            " dropout_1 (Dropout)         (None, 256)               0         \n",
            "                                                                 \n",
            " dense_1 (Dense)             (None, 7)                 1799      \n",
            "                                                                 \n",
            "=================================================================\n",
            "Total params: 212,748,999\n",
            "Trainable params: 1,574,919\n",
            "Non-trainable params: 211,174,080\n",
            "_________________________________________________________________\n",
            "CPU times: user 22 s, sys: 4.11 s, total: 26.1 s\n",
            "Wall time: 49.4 s\n"
          ]
        }
      ],
      "source": [
        "%%time\n",
        "# Construindo o modelo com Keras\n",
        "print(\"Building model with\", MODULE_HANDLE)\n",
        "model = tf.keras.Sequential([\n",
        "    tf.keras.layers.InputLayer(input_shape=IMAGE_SIZE + (3,)),\n",
        "    hub.KerasLayer(MODULE_HANDLE, trainable=False),\n",
        "    tf.keras.layers.Dropout(rate=0.2),\n",
        "    tf.keras.layers.Dense(N_FEATURES, kernel_regularizer=tf.keras.regularizers.l2(0.0001)),\n",
        "    tf.keras.layers.Dropout(rate=0.2),\n",
        "    tf.keras.layers.Dense(train_generator.num_classes, kernel_regularizer=tf.keras.regularizers.l2(0.0001))\n",
        "])\n",
        "model.build((None,)+IMAGE_SIZE+(3,))\n",
        "model.summary()"
      ]
    },
    {
      "cell_type": "code",
      "execution_count": 11,
      "metadata": {
        "colab": {
          "base_uri": "https://localhost:8080/"
        },
        "id": "G5zS3IPMqhdV",
        "outputId": "fd0d352c-6d9c-471c-8b8c-d89f3fb42f55"
      },
      "outputs": [
        {
          "name": "stdout",
          "output_type": "stream",
          "text": [
            "CPU times: user 38.8 ms, sys: 1.9 ms, total: 40.7 ms\n",
            "Wall time: 77.5 ms\n"
          ]
        }
      ],
      "source": [
        "%%time\n",
        "# Compilando o modelo\n",
        "\n",
        "# Definir otimizador e perda\n",
        "lr = 0.003 * BATCH_SIZE / 512 \n",
        "SCHEDULE_LENGTH = 500\n",
        "SCHEDULE_BOUNDARIES = [200, 300, 400]\n",
        "\n",
        "# Reduzindo a taxa de aprendizado por um fator de 10 em SCHEDULE_BOUNDARIES\n",
        "lr_schedule = tf.keras.optimizers.schedules.PiecewiseConstantDecay(\n",
        "  boundaries=SCHEDULE_BOUNDARIES, values=[lr, lr*0.1, lr*0.001, lr*0.0001]\n",
        ")\n",
        "optimizer = tf.keras.optimizers.SGD(learning_rate=lr_schedule, momentum=0.9)\n",
        "\n",
        "loss_fn = tf.keras.losses.CategoricalCrossentropy(from_logits=True)\n",
        "\n",
        "model.compile(\n",
        "  optimizer=optimizer,\n",
        "  loss=loss_fn,\n",
        "  metrics=['accuracy']\n",
        ")"
      ]
    },
    {
      "cell_type": "code",
      "execution_count": 12,
      "metadata": {
        "colab": {
          "base_uri": "https://localhost:8080/"
        },
        "id": "DzVwiUgcqoXh",
        "outputId": "060061fe-d5cc-408f-c559-5e8f3996f98f"
      },
      "outputs": [
        {
          "name": "stdout",
          "output_type": "stream",
          "text": [
            "Epoch 1/5\n",
            "1111/1111 [==============================] - 404s 342ms/step - loss: 0.2596 - accuracy: 0.9687 - val_loss: 0.1447 - val_accuracy: 0.9878\n",
            "Epoch 2/5\n",
            "1111/1111 [==============================] - 377s 339ms/step - loss: 0.1995 - accuracy: 0.9763 - val_loss: 0.1446 - val_accuracy: 0.9878\n",
            "Epoch 3/5\n",
            "1111/1111 [==============================] - 367s 330ms/step - loss: 0.1932 - accuracy: 0.9769 - val_loss: 0.1445 - val_accuracy: 0.9878\n",
            "Epoch 4/5\n",
            "1111/1111 [==============================] - 377s 339ms/step - loss: 0.1876 - accuracy: 0.9775 - val_loss: 0.1443 - val_accuracy: 0.9878\n",
            "Epoch 5/5\n",
            "1111/1111 [==============================] - 377s 339ms/step - loss: 0.1920 - accuracy: 0.9768 - val_loss: 0.1442 - val_accuracy: 0.9878\n",
            "CPU times: user 14min 43s, sys: 1min 31s, total: 16min 14s\n",
            "Wall time: 32min 1s\n"
          ]
        }
      ],
      "source": [
        "%%time\n",
        "# Treinando o modelo\n",
        "steps_per_epoch = train_generator.samples // train_generator.batch_size\n",
        "validation_steps = valid_generator.samples // valid_generator.batch_size\n",
        "\n",
        "hist = model.fit(\n",
        "  train_generator, epochs=5,\n",
        "  steps_per_epoch=steps_per_epoch,\n",
        "  validation_data=valid_generator,\n",
        "  validation_steps=validation_steps\n",
        ").history"
      ]
    },
    {
      "cell_type": "code",
      "execution_count": 13,
      "metadata": {
        "colab": {
          "base_uri": "https://localhost:8080/",
          "height": 940
        },
        "id": "Y630wGnZqwqW",
        "outputId": "7518567f-2dd5-4d52-f711-58237ffce905"
      },
      "outputs": [
        {
          "data": {
            "text/plain": [
              "[<matplotlib.lines.Line2D at 0x7f8db037ec50>]"
            ]
          },
          "execution_count": 13,
          "metadata": {},
          "output_type": "execute_result"
        },
        {
          "data": {
            "image/png": "[encoded data removed]",
            "text/plain": [
              "<Figure size 500x500 with 1 Axes>"
            ]
          },
          "metadata": {},
          "output_type": "display_data"
        },
        {
          "data": {
            "image/png": "[encoded data removed]",
            "text/plain": [
              "<Figure size 500x500 with 1 Axes>"
            ]
          },
          "metadata": {},
          "output_type": "display_data"
        }
      ],
      "source": [
        "# Perda e acurácia do treinamento do modelo\n",
        "plt.figure(figsize=(5,5))\n",
        "plt.ylabel(\"Loss (training and validation)\")\n",
        "plt.xlabel(\"Training Steps\")\n",
        "plt.ylim([0,2])\n",
        "plt.plot(hist[\"loss\"])\n",
        "plt.plot(hist[\"val_loss\"])\n",
        "\n",
        "plt.figure(figsize=(5,5))\n",
        "plt.ylabel(\"Accuracy (training and validation)\")\n",
        "plt.xlabel(\"Training Steps\")\n",
        "plt.ylim([0,1])\n",
        "plt.plot(hist[\"accuracy\"])\n",
        "plt.plot(hist[\"val_accuracy\"])"
      ]
    },
    {
      "cell_type": "code",
      "execution_count": 14,
      "metadata": {
        "colab": {
          "base_uri": "https://localhost:8080/"
        },
        "id": "Po4kxlLSq7Pp",
        "outputId": "98c0e4b7-8688-487d-8b11-f70f59f6cd28"
      },
      "outputs": [
        {
          "name": "stderr",
          "output_type": "stream",
          "text": [
            "WARNING:tensorflow:Compiled the loaded model, but the compiled metrics have yet to be built. `model.compile_metrics` will be empty until you train or evaluate the model.\n"
          ]
        },
        {
          "name": "stdout",
          "output_type": "stream",
          "text": [
            "CPU times: user 32 s, sys: 3.01 s, total: 35 s\n",
            "Wall time: 41.6 s\n"
          ]
        }
      ],
      "source": [
        "%%time\n",
        "# Salvando o modelo\n",
        "root_path = '/content/drive/MyDrive/study/dio/machine_learning_specialist/processamento_imagens/data'\n",
        "if not os.path.exists(root_path):\n",
        "    os.mkdir(root_path)\n",
        "\n",
        "feature_extractor = tf.keras.Model(inputs=model.inputs, outputs=model.layers[-3].output)\n",
        "feature_extractor.save(f'{root_path}/bit_feature_extractor', save_format='tf')\n",
        "\n",
        "saved_model_path = f'{root_path}/bit_model'\n",
        "tf.saved_model.save(model, saved_model_path)"
      ]
    },
    {
      "cell_type": "markdown",
      "metadata": {
        "id": "iPYRw-014zOt"
      },
      "source": [
        "## 6. Vetorização dos dados"
      ]
    },
    {
      "cell_type": "markdown",
      "metadata": {
        "id": "p001rDve48-w"
      },
      "source": [
        "Usando o codificador (preparado no passo 3) para codificar as imagens (preparado no passo 2). Salvaremos o vetor de recursos de cada imagem como uma matriz em um diretório. Após o processamento, salvaremos essas incorporações para uso posterior."
      ]
    },
    {
      "cell_type": "code",
      "execution_count": 15,
      "metadata": {
        "id": "4JkRX5r-49Wh"
      },
      "outputs": [],
      "source": [
        "img_paths = []\n",
        "for path in Path('/content/Fashion_data/categories').rglob('*.jpg'):\n",
        "  img_paths.append(path)\n",
        "np.random.shuffle(img_paths)"
      ]
    },
    {
      "cell_type": "code",
      "execution_count": 16,
      "metadata": {
        "id": "NrFCLeyh5idt"
      },
      "outputs": [],
      "source": [
        "def load_img(path):\n",
        "  img = tf.io.read_file(path)\n",
        "  img = tf.io.decode_jpeg(img, channels=3)\n",
        "  img = tf.image.resize_with_pad(img, 224, 224)\n",
        "  img  = tf.image.convert_image_dtype(img, tf.float32)[tf.newaxis, ...]\n",
        "  return img"
      ]
    },
    {
      "cell_type": "code",
      "execution_count": 32,
      "metadata": {
        "colab": {
          "base_uri": "https://localhost:8080/"
        },
        "id": "iwIic16556NX",
        "outputId": "165f7fbf-b2b9-4921-bba7-069c99eca571"
      },
      "outputs": [
        {
          "name": "stderr",
          "output_type": "stream",
          "text": [
            "WARNING:tensorflow:No training configuration found in save file, so the model was *not* compiled. Compile it manually.\n"
          ]
        },
        {
          "name": "stdout",
          "output_type": "stream",
          "text": [
            "CPU times: user 20.9 s, sys: 787 ms, total: 21.7 s\n",
            "Wall time: 34.9 s\n"
          ]
        }
      ],
      "source": [
        "%%time\n",
        "# Recuperando o modelo que treinamos anteriormente\n",
        "root_path = '/content/drive/MyDrive/study/dio/machine_learning_specialist/processamento_imagens/data'\n",
        "TRANSFER_LEARNING_FLAG = 1\n",
        "if TRANSFER_LEARNING_FLAG:\n",
        "  module = tf.keras.models.load_model(f'{root_path}/bit_feature_extractor')\n",
        "else:\n",
        "  module_handle = \"https://tfhub.dev/google/bit/s-r50x3/ilsvrc2012_classification/1\" \n",
        "  module = hub.load(module_handle)"
      ]
    },
    {
      "cell_type": "code",
      "execution_count": 33,
      "metadata": {
        "id": "J4qjNSYL6MNE"
      },
      "outputs": [],
      "source": [
        "# Vetorizando as imagens\n",
        "imgvec_path = '/content/img_vectors/'\n",
        "Path(imgvec_path).mkdir(parents=True, exist_ok=True)"
      ]
    },
    {
      "cell_type": "code",
      "execution_count": 34,
      "metadata": {
        "colab": {
          "base_uri": "https://localhost:8080/"
        },
        "id": "L1GQrXOy6BcX",
        "outputId": "dbf7d58a-8fa1-4488-dcc6-45c63705bc1b"
      },
      "outputs": [
        {
          "name": "stderr",
          "output_type": "stream",
          "text": [
            "100%|██████████| 5000/5000 [04:00<00:00, 20.76it/s]"
          ]
        },
        {
          "name": "stdout",
          "output_type": "stream",
          "text": [
            "CPU times: user 3min 53s, sys: 3.93 s, total: 3min 57s\n",
            "Wall time: 4min\n"
          ]
        },
        {
          "name": "stderr",
          "output_type": "stream",
          "text": [
            "\n"
          ]
        }
      ],
      "source": [
        "%%time\n",
        "for filename in tqdm(img_paths[:5000]):\n",
        "  img = load_img(str(filename))\n",
        "  features = module(img)\n",
        "  feature_set = np.squeeze(features)\n",
        "  outfile_name = os.path.basename(filename).split('.')[0] + \".npz\"\n",
        "  out_path_file = os.path.join(imgvec_path, outfile_name)\n",
        "  np.savetxt(out_path_file, feature_set, delimiter=',')"
      ]
    },
    {
      "cell_type": "markdown",
      "metadata": {
        "id": "G9B3B59Z69J7"
      },
      "source": [
        "## 7. Metadados e indexação"
      ]
    },
    {
      "cell_type": "markdown",
      "metadata": {
        "id": "KGT8pytz7GnH"
      },
      "source": [
        "Atribuiremos um id exclusivo a cada imagem e criaremos dicionários para localizar as informações dessa imagem:\n",
        "\n",
        "1. ID da imagem para o dicionário de nome da imagem;\n",
        "2. ID da imagem para o dicionário de vetores de recursos da imagem e;\n",
        "3. (opcional) ID da imagem para ID do produto de metadados dicionário. Também criaremos um ID de imagem para a indexação de vetores de recursos de imagem.\n",
        "\n",
        "Em seguida, salvaremos esses dicionários e objetos de índice para uso posterior."
      ]
    },
    {
      "cell_type": "code",
      "execution_count": 35,
      "metadata": {
        "id": "BD8v5pq9KKNJ"
      },
      "outputs": [],
      "source": [
        "!pip install -q annoy #https://sds-aau.github.io/M3Port19/portfolio/ann/"
      ]
    },
    {
      "cell_type": "code",
      "execution_count": 36,
      "metadata": {
        "id": "pAs4T7uL6WFw"
      },
      "outputs": [],
      "source": [
        "import glob\n",
        "import json\n",
        "import pickle\n",
        "from IPython.display import Image as dispImage\n",
        "from annoy import AnnoyIndex\n",
        "from scipy import spatial"
      ]
    },
    {
      "cell_type": "code",
      "execution_count": 37,
      "metadata": {
        "colab": {
          "base_uri": "https://localhost:8080/",
          "height": 97
        },
        "id": "ObIyzx0I8y16",
        "outputId": "f6df96ba-9d1c-432a-de63-bc90ea57cb99"
      },
      "outputs": [
        {
          "data": {
            "image/jpeg": "[encoded data removed]",
            "text/plain": [
              "<IPython.core.display.Image object>"
            ]
          },
          "execution_count": 37,
          "metadata": {},
          "output_type": "execute_result"
        }
      ],
      "source": [
        "# Testando visualização de imagem\n",
        "test_img = '/content/Fashion_data/categories/Accessories/1941.jpg'\n",
        "dispImage(test_img)"
      ]
    },
    {
      "cell_type": "code",
      "execution_count": 38,
      "metadata": {
        "colab": {
          "base_uri": "https://localhost:8080/"
        },
        "id": "GojZr_8Z8zPj",
        "outputId": "869cb25f-b36a-4522-8813-a973c246d47e"
      },
      "outputs": [
        {
          "name": "stderr",
          "output_type": "stream",
          "text": [
            "<timed exec>:2: FutureWarning: The error_bad_lines argument has been deprecated and will be removed in a future version. Use on_bad_lines in the future.\n",
            "\n",
            "\n",
            "Skipping line 6044: expected 10 fields, saw 11\n",
            "Skipping line 6569: expected 10 fields, saw 11\n",
            "Skipping line 7399: expected 10 fields, saw 11\n",
            "Skipping line 7939: expected 10 fields, saw 11\n",
            "Skipping line 9026: expected 10 fields, saw 11\n",
            "Skipping line 10264: expected 10 fields, saw 11\n",
            "Skipping line 10427: expected 10 fields, saw 11\n",
            "Skipping line 10905: expected 10 fields, saw 11\n",
            "Skipping line 11373: expected 10 fields, saw 11\n",
            "Skipping line 11945: expected 10 fields, saw 11\n",
            "Skipping line 14112: expected 10 fields, saw 11\n",
            "Skipping line 14532: expected 10 fields, saw 11\n",
            "Skipping line 15076: expected 10 fields, saw 12\n",
            "Skipping line 29906: expected 10 fields, saw 11\n",
            "Skipping line 31625: expected 10 fields, saw 11\n",
            "Skipping line 33020: expected 10 fields, saw 11\n",
            "Skipping line 35748: expected 10 fields, saw 11\n",
            "Skipping line 35962: expected 10 fields, saw 11\n",
            "Skipping line 37770: expected 10 fields, saw 11\n",
            "Skipping line 38105: expected 10 fields, saw 11\n",
            "Skipping line 38275: expected 10 fields, saw 11\n",
            "Skipping line 38404: expected 10 fields, saw 12\n",
            "\n"
          ]
        },
        {
          "name": "stdout",
          "output_type": "stream",
          "text": [
            "CPU times: user 579 ms, sys: 10.2 ms, total: 589 ms\n",
            "Wall time: 661 ms\n"
          ]
        }
      ],
      "source": [
        "%%time\n",
        "root_path = '/content/drive/MyDrive/study/dio/machine_learning_specialist/processamento_imagens/data'\n",
        "styles = pd.read_csv('/content/styles.csv', error_bad_lines=False)\n",
        "styles['id'] = styles['id'].astype('str')\n",
        "styles.to_csv(f'{root_path}/styles.csv', index=False)"
      ]
    },
    {
      "cell_type": "code",
      "execution_count": 39,
      "metadata": {
        "id": "UzEfM9Vi87et"
      },
      "outputs": [],
      "source": [
        "def match_id(fname):\n",
        "  return styles.index[styles.id==fname].values[0]"
      ]
    },
    {
      "cell_type": "code",
      "execution_count": 40,
      "metadata": {
        "id": "DXePGdmV9Tmr"
      },
      "outputs": [],
      "source": [
        "# Definindo estruturas de dados como dict vazio\n",
        "file_index_to_file_name = {}\n",
        "file_index_to_file_vector = {}\n",
        "file_index_to_product_id = {}\n",
        "\n",
        "# Configurando parâmetros irritantes\n",
        "dims = 256\n",
        "n_nearest_neighbors = 20\n",
        "trees = 10000\n",
        "\n",
        "# Lê todos os nomes de arquivos que armazenam vetores de recursos\n",
        "allfiles = glob.glob('/content/img_vectors/*.npz')\n",
        "\n",
        "annoyIndexInstance = AnnoyIndex(dims, metric='angular')"
      ]
    },
    {
      "cell_type": "code",
      "execution_count": 41,
      "metadata": {
        "colab": {
          "base_uri": "https://localhost:8080/"
        },
        "id": "IjrrFqTm9WFf",
        "outputId": "a0f3f98c-a21c-4b05-91ae-e6dc4e24465b"
      },
      "outputs": [
        {
          "name": "stderr",
          "output_type": "stream",
          "text": [
            "5000it [00:41, 120.54it/s]"
          ]
        },
        {
          "name": "stdout",
          "output_type": "stream",
          "text": [
            "CPU times: user 28.4 s, sys: 494 ms, total: 28.9 s\n",
            "Wall time: 41.5 s\n"
          ]
        },
        {
          "name": "stderr",
          "output_type": "stream",
          "text": [
            "\n"
          ]
        }
      ],
      "source": [
        "%%time\n",
        "for findex, fname in tqdm(enumerate(allfiles)):\n",
        "  file_vector = np.loadtxt(fname)\n",
        "  file_name = os.path.basename(fname).split('.')[0]\n",
        "  file_index_to_file_name[findex] = file_name\n",
        "  file_index_to_file_vector[findex] = file_vector\n",
        "  try:\n",
        "    file_index_to_product_id[findex] = match_id(file_name)\n",
        "  except IndexError:\n",
        "    pass \n",
        "  annoyIndexInstance.add_item(findex, file_vector)"
      ]
    },
    {
      "cell_type": "code",
      "execution_count": 42,
      "metadata": {
        "colab": {
          "base_uri": "https://localhost:8080/"
        },
        "id": "P2wWXn_b9a2x",
        "outputId": "5b67873e-7105-48d6-98f9-9e9658d0547c"
      },
      "outputs": [
        {
          "name": "stdout",
          "output_type": "stream",
          "text": [
            "CPU times: user 46.5 s, sys: 1.23 s, total: 47.7 s\n",
            "Wall time: 55.6 s\n"
          ]
        },
        {
          "data": {
            "text/plain": [
              "True"
            ]
          },
          "execution_count": 42,
          "metadata": {},
          "output_type": "execute_result"
        }
      ],
      "source": [
        "%%time\n",
        "annoyIndexInstance.build(trees)\n",
        "annoyIndexInstance.save('annoyIndexInstance.ann')"
      ]
    },
    {
      "cell_type": "code",
      "execution_count": 43,
      "metadata": {
        "id": "YHoP3nHV9mmU"
      },
      "outputs": [],
      "source": [
        "root_path = '/content/drive/MyDrive/study/dio/machine_learning_specialist/processamento_imagens/data'\n",
        "annoyIndexInstance.save(f'{root_path}/indexer.ann')\n",
        "pickle.dump(file_index_to_file_name, open(f\"{root_path}/file_index_to_file_name.p\", \"wb\"))\n",
        "pickle.dump(file_index_to_file_vector, open(f\"{root_path}/file_index_to_file_vector.p\", \"wb\"))\n",
        "pickle.dump(file_index_to_product_id, open(f\"{root_path}/file_index_to_product_id.p\", \"wb\"))"
      ]
    },
    {
      "cell_type": "markdown",
      "metadata": {
        "id": "_XetbdPq-q4L"
      },
      "source": [
        "## 8. Testando localmente"
      ]
    },
    {
      "cell_type": "code",
      "execution_count": 44,
      "metadata": {
        "id": "O3EquWhI-oqH"
      },
      "outputs": [],
      "source": [
        "from PIL import Image\n",
        "import matplotlib.image as mpimg"
      ]
    },
    {
      "cell_type": "code",
      "execution_count": 45,
      "metadata": {
        "colab": {
          "base_uri": "https://localhost:8080/",
          "height": 276
        },
        "id": "w0gakMME-w3x",
        "outputId": "560d4161-6290-4bff-d1a8-280f97b0f672"
      },
      "outputs": [
        {
          "name": "stdout",
          "output_type": "stream",
          "text": [
            "CPU times: user 99.1 ms, sys: 3.86 ms, total: 103 ms\n",
            "Wall time: 991 ms\n"
          ]
        },
        {
          "data": {
            "image/png": "[encoded data removed]",
            "text/plain": [
              "<PIL.Image.Image image mode=RGB size=224x224 at 0x7F8DC52D8790>"
            ]
          },
          "execution_count": 45,
          "metadata": {},
          "output_type": "execute_result"
        }
      ],
      "source": [
        "%%time\n",
        "img_addr = 'https://static.netshoes.com.br/produtos/tenis-adidas-runfalcon-30-masculino/28/FB8-4501-028/FB8-4501-028_zoom1.jpg?ts=1678448317&ims=544x'\n",
        "\n",
        "!wget -q -O img.jpg $img_addr\n",
        "test_img = 'img.jpg'\n",
        "topK = 4\n",
        "\n",
        "#np.squeeze : https://www.scaler.com/topics/numpy-squeeze/\n",
        "test_vec = np.squeeze(module(load_img(test_img)))\n",
        "\n",
        "basewidth = 224\n",
        "img = Image.open(test_img)\n",
        "wpercent = (basewidth/float(img.size[0]))\n",
        "hsize = int((float(img.size[1])*float(wpercent)))\n",
        "img = img.resize((basewidth,hsize), Image.ANTIALIAS)\n",
        "img"
      ]
    },
    {
      "cell_type": "code",
      "execution_count": 46,
      "metadata": {
        "colab": {
          "base_uri": "https://localhost:8080/",
          "height": 546
        },
        "id": "zDkZyOLb-zax",
        "outputId": "dee99d36-70a8-49c9-e710-6ccb8e6186ee"
      },
      "outputs": [
        {
          "data": {
            "image/png": "[encoded data removed]",
            "text/plain": [
              "<Figure size 1500x1500 with 4 Axes>"
            ]
          },
          "metadata": {},
          "output_type": "display_data"
        },
        {
          "name": "stdout",
          "output_type": "stream",
          "text": [
            "CPU times: user 741 ms, sys: 395 ms, total: 1.14 s\n",
            "Wall time: 1.69 s\n"
          ]
        }
      ],
      "source": [
        "%%time\n",
        "# Gerando recomendações\n",
        "path_dict = {}\n",
        "for path in Path('/content/Fashion_data/categories').rglob('*.jpg'):\n",
        "  path_dict[path.name] = path\n",
        "\n",
        "nns = annoyIndexInstance.get_nns_by_vector(test_vec, n=topK)\n",
        "plt.figure(figsize=(15, 15))\n",
        "for i in range(topK):\n",
        "  x = file_index_to_file_name[nns[i]]\n",
        "  x = path_dict[x+'.jpg']\n",
        "  y = file_index_to_product_id[nns[i]]\n",
        "  title = '\\n'.join([str(j) for j in list(styles.loc[y].values[-5:])])\n",
        "  plt.subplot(1, topK, i+1)\n",
        "  plt.title(title)\n",
        "  plt.imshow(mpimg.imread(x))\n",
        "  plt.axis('off')\n",
        "plt.tight_layout()\n",
        "plt.show()"
      ]
    },
    {
      "cell_type": "code",
      "execution_count": 31,
      "metadata": {
        "id": "g11RDlczAZFG"
      },
      "outputs": [],
      "source": []
    }
  ],
  "metadata": {
    "accelerator": "GPU",
    "colab": {
      "gpuType": "V100",
      "provenance": []
    },
    "gpuClass": "standard",
    "kernelspec": {
      "display_name": "Python 3",
      "name": "python3"
    },
    "language_info": {
      "name": "python"
    }
  },
  "nbformat": 4,
  "nbformat_minor": 0
}
